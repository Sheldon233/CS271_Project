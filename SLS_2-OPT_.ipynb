{
 "cells": [
  {
   "cell_type": "code",
   "execution_count": 1,
   "id": "1231f467",
   "metadata": {},
   "outputs": [
    {
     "name": "stdout",
     "output_type": "stream",
     "text": [
      "Enter the number of locations: 7\n",
      "Enter the mean: 7\n",
      "Enter the standard deviation: 7\n"
     ]
    }
   ],
   "source": [
    "import numpy as np\n",
    "\n",
    "\n",
    "def write_distance_matrix(n, mean, sigma):\n",
    "    distance_matrix = np.zeros((n, n))\n",
    "\n",
    "    for row in range(n):\n",
    "        for col in range(n):\n",
    "            distance = 0\n",
    "            while distance <= 0:\n",
    "                distance = np.random.normal(mean, sigma)\n",
    "                distance_matrix[row][col] = distance\n",
    "\n",
    "    np.savetxt(\n",
    "        f\"{n}_{mean}_{sigma}.out\",\n",
    "        distance_matrix,\n",
    "        delimiter=\" \",\n",
    "        fmt=\"%1.4f\",\n",
    "        header=str(n),\n",
    "        comments=\"\",\n",
    "    )\n",
    "\n",
    "\n",
    "if __name__ == \"__main__\":\n",
    "    n = int(input(\"Enter the number of locations: \"))\n",
    "    mean = float(input(\"Enter the mean: \"))\n",
    "    sigma = float(input(\"Enter the standard deviation: \"))\n",
    "\n",
    "    write_distance_matrix(n, mean, sigma)"
   ]
  },
  {
   "cell_type": "code",
   "execution_count": 2,
   "id": "93506bea",
   "metadata": {},
   "outputs": [],
   "source": [
    "import numpy as np\n",
    "\n",
    "# Calculate the euclidian distance in n-space of the route r traversing cities c, ending at the path start.\n",
    "path_distance = lambda r,c: np.sum([np.linalg.norm(c[r[p]]-c[r[p-1]]) for p in range(len(r))])\n",
    "# Reverse the order of all elements from element i to element k in array r.\n",
    "two_opt_swap = lambda r,i,k: np.concatenate((r[0:i],r[k:-len(r)+i-1:-1],r[k+1:len(r)]))\n",
    "\n",
    "def two_opt(cities,improvement_threshold): # 2-opt Algorithm adapted from https://en.wikipedia.org/wiki/2-opt\n",
    "    route = np.arange(cities.shape[0]) # Make an array of row numbers corresponding to cities.\n",
    "    improvement_factor = 1 # Initialize the improvement factor.\n",
    "    best_distance = path_distance(route,cities) # Calculate the distance of the initial path.\n",
    "    while improvement_factor > improvement_threshold: # If the route is still improving, keep going!\n",
    "        distance_to_beat = best_distance # Record the distance at the beginning of the loop.\n",
    "        for swap_first in range(1,len(route)-2): # From each city except the first and last,\n",
    "            for swap_last in range(swap_first+1,len(route)): # to each of the cities following,\n",
    "                new_route = two_opt_swap(route,swap_first,swap_last) # try reversing the order of these cities\n",
    "                new_distance = path_distance(new_route,cities) # and check the total distance with this modification.\n",
    "                if new_distance < best_distance: # If the path distance is an improvement,\n",
    "                    route = new_route # make this the accepted best route\n",
    "                    best_distance = new_distance # and update the distance corresponding to this route.\n",
    "        improvement_factor = 1 - best_distance/distance_to_beat # Calculate how much the route has improved.\n",
    "    return route # When the route is no longer improving substantially, stop searching and return the route."
   ]
  },
  {
   "cell_type": "code",
   "execution_count": 4,
   "id": "c0c83248",
   "metadata": {},
   "outputs": [],
   "source": [
    "cities = np.array([[21.6606, 2.5075, 4.0142, 5.2191, 0.5313, 1.8145, 10.3831],\n",
    "                   [11.0844, 16.0825, 3.0075, 11.3923, 11.8279, 13.2374, 4.9982],\n",
    "                   [5.7343, 6.8439, 10.5461, 8.0046, 5.8106, 5.5460, 6.8341],\n",
    "                   [11.3655, 9.6136, 8.6744, 16.1405 ,1.9856 ,12.6057 ,10.5764],\n",
    "                   [3.0814, 4.7846, 12.2573, 10.0778 ,14.0274, 12.8336, 7.7043],\n",
    "                   [5.9445, 7.6150, 6.7868 ,18.1294, 1.9651, 4.7226, 2.2406],\n",
    "                   [3.0343, 7.6751, 8.0768, 14.5955, 7.8130, 12.6386, 8.2825]])"
   ]
  },
  {
   "cell_type": "code",
   "execution_count": 5,
   "id": "c1497c15",
   "metadata": {},
   "outputs": [],
   "source": [
    "route = two_opt(cities,0.001)"
   ]
  },
  {
   "cell_type": "code",
   "execution_count": 6,
   "id": "6971834e",
   "metadata": {},
   "outputs": [
    {
     "data": {
      "image/png": "[encoded data removed]",
      "text/plain": [
       "<Figure size 432x288 with 1 Axes>"
      ]
     },
     "metadata": {
      "needs_background": "light"
     },
     "output_type": "display_data"
    },
    {
     "name": "stdout",
     "output_type": "stream",
     "text": [
      "Route: [0 2 4 6 1 3 5]\n",
      "\n",
      "Distance: 105.61028268307095\n"
     ]
    }
   ],
   "source": [
    "import matplotlib.pyplot as plt\n",
    "# Reorder the cities matrix by route order in a new matrix for plotting.\n",
    "new_cities_order = np.concatenate((np.array([cities[route[i]] for i in range(len(route))]),np.array([cities[0]])))\n",
    "# Plot the cities.\n",
    "plt.scatter(cities[:,0],cities[:,1])\n",
    "# Plot the path.\n",
    "plt.plot(new_cities_order[:,0],new_cities_order[:,1])\n",
    "plt.show()\n",
    "# Print the route as row numbers and the total distance travelled by the path.\n",
    "print(\"Route: \" + str(route) + \"\\n\\nDistance: \" + str(path_distance(route,cities)))"
   ]
  },
  {
   "cell_type": "code",
   "execution_count": 33,
   "id": "0d0e26b5",
   "metadata": {},
   "outputs": [],
   "source": [
    "import numpy as np\n",
    "\n",
    "def write_distance_matrix(n, mean, sigma):\n",
    "    distance_matrix = np.zeros((n, n))\n",
    "\n",
    "    for row in range(n):\n",
    "        for col in range(n):\n",
    "            distance = 0\n",
    "            while distance <= 0:\n",
    "                distance = np.random.normal(mean, sigma)\n",
    "                distance_matrix[row][col] = distance\n",
    "    return distance_matrix"
   ]
  },
  {
   "cell_type": "code",
   "execution_count": 36,
   "id": "9b0b1180",
   "metadata": {},
   "outputs": [],
   "source": [
    "cities2 = write_distance_matrix(20,20,20)"
   ]
  },
  {
   "cell_type": "code",
   "execution_count": 37,
   "id": "e6234e78",
   "metadata": {},
   "outputs": [],
   "source": [
    "route = two_opt(cities,0.001)"
   ]
  },
  {
   "cell_type": "code",
   "execution_count": 38,
   "id": "9248a570",
   "metadata": {},
   "outputs": [
    {
     "data": {
      "image/png": "[encoded data removed]",
      "text/plain": [
       "<Figure size 432x288 with 1 Axes>"
      ]
     },
     "metadata": {
      "needs_background": "light"
     },
     "output_type": "display_data"
    },
    {
     "name": "stdout",
     "output_type": "stream",
     "text": [
      "Route: [ 0  8 12 10 11  2 15 18  9 17 19 14  6 16 13  3  1  4  7  5]\n",
      "\n",
      "Distance: 1650.9674592939898\n"
     ]
    }
   ],
   "source": [
    "import matplotlib.pyplot as plt\n",
    "# Reorder the cities matrix by route order in a new matrix for plotting.\n",
    "new_cities_order = np.concatenate((np.array([cities[route[i]] for i in range(len(route))]),np.array([cities[0]])))\n",
    "# Plot the cities.\n",
    "plt.scatter(cities[:,0],cities[:,1])\n",
    "# Plot the path.\n",
    "plt.plot(new_cities_order[:,0],new_cities_order[:,1])\n",
    "plt.show()\n",
    "# Print the route as row numbers and the total distance travelled by the path.\n",
    "print(\"Route: \" + str(route) + \"\\n\\nDistance: \" + str(path_distance(route,cities)))"
   ]
  },
  {
   "cell_type": "code",
   "execution_count": 46,
   "id": "c991a701",
   "metadata": {},
   "outputs": [
    {
     "name": "stdout",
     "output_type": "stream",
     "text": [
      "Minimum cost : 93.18880817205721\n",
      "Path Taken :  0 13 5 1 3 7 2 12 19 10 17 9 8 6 11 4 14 15 16 18 0 "
     ]
    }
   ],
   "source": [
    "# Python3 program to solve\n",
    "# Traveling Salesman Problem using\n",
    "# Branch and Bound.\n",
    "import math\n",
    "maxsize = float('inf')\n",
    " \n",
    "# Function to copy temporary solution\n",
    "# to the final solution\n",
    "def copyToFinal(curr_path):\n",
    "    final_path[:N + 1] = curr_path[:]\n",
    "    final_path[N] = curr_path[0]\n",
    " \n",
    "# Function to find the minimum edge cost\n",
    "# having an end at the vertex i\n",
    "def firstMin(adj, i):\n",
    "    min = maxsize\n",
    "    for k in range(N):\n",
    "        if adj[i][k] < min and i != k:\n",
    "            min = adj[i][k]\n",
    " \n",
    "    return min\n",
    " \n",
    "# function to find the second minimum edge\n",
    "# cost having an end at the vertex i\n",
    "def secondMin(adj, i):\n",
    "    first, second = maxsize, maxsize\n",
    "    for j in range(N):\n",
    "        if i == j:\n",
    "            continue\n",
    "        if adj[i][j] <= first:\n",
    "            second = first\n",
    "            first = adj[i][j]\n",
    " \n",
    "        elif(adj[i][j] <= second and\n",
    "             adj[i][j] != first):\n",
    "            second = adj[i][j]\n",
    " \n",
    "    return second\n",
    " \n",
    "# function that takes as arguments:\n",
    "# curr_bound -> lower bound of the root node\n",
    "# curr_weight-> stores the weight of the path so far\n",
    "# level-> current level while moving\n",
    "# in the search space tree\n",
    "# curr_path[] -> where the solution is being stored\n",
    "# which would later be copied to final_path[]\n",
    "def TSPRec(adj, curr_bound, curr_weight,\n",
    "              level, curr_path, visited):\n",
    "    global final_res\n",
    "     \n",
    "    # base case is when we have reached level N\n",
    "    # which means we have covered all the nodes once\n",
    "    if level == N:\n",
    "         \n",
    "        # check if there is an edge from\n",
    "        # last vertex in path back to the first vertex\n",
    "        if adj[curr_path[level - 1]][curr_path[0]] != 0:\n",
    "             \n",
    "            # curr_res has the total weight\n",
    "            # of the solution we got\n",
    "            curr_res = curr_weight + adj[curr_path[level - 1]]\\\n",
    "                                        [curr_path[0]]\n",
    "            if curr_res < final_res:\n",
    "                copyToFinal(curr_path)\n",
    "                final_res = curr_res\n",
    "        return\n",
    " \n",
    "    # for any other level iterate for all vertices\n",
    "    # to build the search space tree recursively\n",
    "    for i in range(N):\n",
    "         \n",
    "        # Consider next vertex if it is not same\n",
    "        # (diagonal entry in adjacency matrix and\n",
    "        #  not visited already)\n",
    "        if (adj[curr_path[level-1]][i] != 0 and\n",
    "                            visited[i] == False):\n",
    "            temp = curr_bound\n",
    "            curr_weight += adj[curr_path[level - 1]][i]\n",
    " \n",
    "            # different computation of curr_bound\n",
    "            # for level 2 from the other levels\n",
    "            if level == 1:\n",
    "                curr_bound -= ((firstMin(adj, curr_path[level - 1]) +\n",
    "                                firstMin(adj, i)) / 2)\n",
    "            else:\n",
    "                curr_bound -= ((secondMin(adj, curr_path[level - 1]) +\n",
    "                                 firstMin(adj, i)) / 2)\n",
    " \n",
    "            # curr_bound + curr_weight is the actual lower bound\n",
    "            # for the node that we have arrived on.\n",
    "            # If current lower bound < final_res,\n",
    "            # we need to explore the node further\n",
    "            if curr_bound + curr_weight < final_res:\n",
    "                curr_path[level] = i\n",
    "                visited[i] = True\n",
    "                 \n",
    "                # call TSPRec for the next level\n",
    "                TSPRec(adj, curr_bound, curr_weight,\n",
    "                       level + 1, curr_path, visited)\n",
    " \n",
    "            # Else we have to prune the node by resetting\n",
    "            # all changes to curr_weight and curr_bound\n",
    "            curr_weight -= adj[curr_path[level - 1]][i]\n",
    "            curr_bound = temp\n",
    " \n",
    "            # Also reset the visited array\n",
    "            visited = [False] * len(visited)\n",
    "            for j in range(level):\n",
    "                if curr_path[j] != -1:\n",
    "                    visited[curr_path[j]] = True\n",
    " \n",
    "# This function sets up final_path\n",
    "def TSP(adj):\n",
    "     \n",
    "    # Calculate initial lower bound for the root node\n",
    "    # using the formula 1/2 * (sum of first min +\n",
    "    # second min) for all edges. Also initialize the\n",
    "    # curr_path and visited array\n",
    "    curr_bound = 0\n",
    "    curr_path = [-1] * (N + 1)\n",
    "    visited = [False] * N\n",
    " \n",
    "    # Compute initial bound\n",
    "    for i in range(N):\n",
    "        curr_bound += (firstMin(adj, i) +\n",
    "                       secondMin(adj, i))\n",
    " \n",
    "    # Rounding off the lower bound to an integer\n",
    "    curr_bound = math.ceil(curr_bound / 2)\n",
    " \n",
    "    # We start at vertex 1 so the first vertex\n",
    "    # in curr_path[] is 0\n",
    "    visited[0] = True\n",
    "    curr_path[0] = 0\n",
    " \n",
    "    # Call to TSPRec for curr_weight\n",
    "    # equal to 0 and level 1\n",
    "    TSPRec(adj, curr_bound, 0, 1, curr_path, visited)\n",
    " \n",
    "# Driver code\n",
    " \n",
    "# Adjacency matrix for the given graph\n",
    "\n",
    "N = 20\n",
    " \n",
    "# final_path[] stores the final solution\n",
    "# i.e. the // path of the salesman.\n",
    "final_path = [None] * (N + 1)\n",
    " \n",
    "# visited[] keeps track of the already\n",
    "# visited nodes in a particular path\n",
    "visited = [False] * N\n",
    " \n",
    "# Stores the final minimum weight\n",
    "# of shortest tour.\n",
    "final_res = maxsize\n",
    " \n",
    "TSP(cities)\n",
    " \n",
    "print(\"Minimum cost :\", final_res)\n",
    "print(\"Path Taken : \", end = ' ')\n",
    "for i in range(N + 1):\n",
    "    print(final_path[i], end = ' ')"
   ]
  },
  {
   "cell_type": "code",
   "execution_count": 55,
   "id": "ad810890",
   "metadata": {},
   "outputs": [
    {
     "data": {
      "image/png": "[encoded data removed]",
      "text/plain": [
       "<Figure size 432x288 with 1 Axes>"
      ]
     },
     "metadata": {
      "needs_background": "light"
     },
     "output_type": "display_data"
    }
   ],
   "source": [
    "import matplotlib.pyplot as plt\n",
    "# Reorder the cities matrix by route order in a new matrix for plotting.\n",
    "new_cities_order = np.concatenate((np.array([cities[final_path[i]] for i in range(len(final_path))]),np.array([cities[0]])))\n",
    "# Plot the cities.\n",
    "plt.scatter(cities[:,0],cities[:,1])\n",
    "# Plot the path.\n",
    "plt.plot(new_cities_order[:,0],new_cities_order[:,1])\n",
    "plt.show()"
   ]
  },
  {
   "cell_type": "code",
   "execution_count": null,
   "id": "3b9486bc",
   "metadata": {},
   "outputs": [],
   "source": []
  }
 ],
 "metadata": {
  "kernelspec": {
   "display_name": "Python 3",
   "language": "python",
   "name": "python3"
  },
  "language_info": {
   "codemirror_mode": {
    "name": "ipython",
    "version": 3
   },
   "file_extension": ".py",
   "mimetype": "text/x-python",
   "name": "python",
   "nbconvert_exporter": "python",
   "pygments_lexer": "ipython3",
   "version": "3.8.8"
  }
 },
 "nbformat": 4,
 "nbformat_minor": 5
}
